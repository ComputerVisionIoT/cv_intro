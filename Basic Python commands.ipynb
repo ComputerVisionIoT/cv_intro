{
 "cells": [
  {
   "cell_type": "markdown",
   "metadata": {},
   "source": [
    "## Basic Python commands\n",
    "***\n",
    "In this notebook some of basic Python commands is demonstrated\n",
    "1. Variables\n",
    "2. For loop\n",
    "3. If statement\n",
    "4. User input\n",
    "5. While loop\n",
    "6. Function\n",
    "7. Classes\n",
    "8. Plot data"
   ]
  },
  {
   "cell_type": "code",
   "execution_count": 1,
   "metadata": {},
   "outputs": [
    {
     "name": "stdout",
     "output_type": "stream",
     "text": [
      "3.7.4 (default, Aug  9 2019, 18:34:13) [MSC v.1915 64 bit (AMD64)]\n"
     ]
    }
   ],
   "source": [
    "import sys\n",
    "print(sys.version)                # print python version"
   ]
  },
  {
   "cell_type": "markdown",
   "metadata": {},
   "source": [
    "### 1. Variables: String"
   ]
  },
  {
   "cell_type": "code",
   "execution_count": 2,
   "metadata": {},
   "outputs": [
    {
     "name": "stdout",
     "output_type": "stream",
     "text": [
      "This is a string variable!\n"
     ]
    }
   ],
   "source": [
    "msg = \"This is a string variable!\" # create a string\n",
    "print(msg)                         # print string"
   ]
  },
  {
   "cell_type": "code",
   "execution_count": 3,
   "metadata": {},
   "outputs": [
    {
     "name": "stdout",
     "output_type": "stream",
     "text": [
      "This is how you can combine strings\n"
     ]
    }
   ],
   "source": [
    "msg1 = \"This is how \"\n",
    "msg2 = \"you can combine strings\"\n",
    "print(msg1 + msg2)                # Concatenating strings"
   ]
  },
  {
   "cell_type": "markdown",
   "metadata": {},
   "source": [
    "### 1. Variables: Lists"
   ]
  },
  {
   "cell_type": "code",
   "execution_count": 4,
   "metadata": {},
   "outputs": [
    {
     "name": "stdout",
     "output_type": "stream",
     "text": [
      "1\n",
      "2.51\n",
      "[1, 'dog']\n"
     ]
    }
   ],
   "source": [
    "my_list = [1, 'dog', 2.51]       # create a list\n",
    "print(my_list[0])                # first item in a list\n",
    "print(my_list[-1])               # last item in a list\n",
    "print(my_list[0:2])              # slicing a list"
   ]
  },
  {
   "cell_type": "code",
   "execution_count": 5,
   "metadata": {},
   "outputs": [
    {
     "name": "stdout",
     "output_type": "stream",
     "text": [
      "cat\n"
     ]
    }
   ],
   "source": [
    "my_list.append('cat')            # append to a list \n",
    "print(my_list[-1])"
   ]
  },
  {
   "cell_type": "code",
   "execution_count": 6,
   "metadata": {},
   "outputs": [
    {
     "data": {
      "text/plain": [
       "4"
      ]
     },
     "execution_count": 6,
     "metadata": {},
     "output_type": "execute_result"
    }
   ],
   "source": [
    "len(my_list)                     # find length of a list"
   ]
  },
  {
   "cell_type": "markdown",
   "metadata": {},
   "source": [
    "### 1. Variables: Tuples"
   ]
  },
  {
   "cell_type": "code",
   "execution_count": 7,
   "metadata": {},
   "outputs": [
    {
     "name": "stdout",
     "output_type": "stream",
     "text": [
      "(10, 1.1)\n"
     ]
    }
   ],
   "source": [
    "my_tuple = (10, 1.1)            # create a tuple\n",
    "print(my_tuple)"
   ]
  },
  {
   "cell_type": "markdown",
   "metadata": {},
   "source": [
    "### 1. Variables: Dictionary"
   ]
  },
  {
   "cell_type": "code",
   "execution_count": 8,
   "metadata": {},
   "outputs": [
    {
     "name": "stdout",
     "output_type": "stream",
     "text": [
      "value1\n"
     ]
    }
   ],
   "source": [
    "my_dic = {'key1': 'value1', 'name' : 'Joe', 'age': 20} # create a dictionary\n",
    "print(my_dic['key1'])\n",
    "\n",
    "my_dic['height'] = 6                                   # add a new key-value pair\n",
    "my_dic['Car info'] = ['Honda', 2019]                   # add a new key-value pair"
   ]
  },
  {
   "cell_type": "markdown",
   "metadata": {},
   "source": [
    "### 2. For loop"
   ]
  },
  {
   "cell_type": "code",
   "execution_count": 9,
   "metadata": {},
   "outputs": [
    {
     "name": "stdout",
     "output_type": "stream",
     "text": [
      "[0, 1, 4, 9, 16]\n"
     ]
    }
   ],
   "source": [
    "my_list = []                                           # create an empty list\n",
    "for x in range(5):\n",
    "    my_list.append(x**2)                               # append to list\n",
    "\n",
    "print(my_list)"
   ]
  },
  {
   "cell_type": "code",
   "execution_count": 10,
   "metadata": {},
   "outputs": [
    {
     "name": "stdout",
     "output_type": "stream",
     "text": [
      "key: key1, value: value1\n",
      "key: name, value: Joe\n",
      "key: age, value: 20\n",
      "key: height, value: 6\n",
      "key: Car info, value: ['Honda', 2019]\n"
     ]
    }
   ],
   "source": [
    "for key, value in my_dic.items():                       # looping through key-value pairs\n",
    "    print('key: ' + str(key) + ', value: ' + str(value))"
   ]
  },
  {
   "cell_type": "markdown",
   "metadata": {},
   "source": [
    "### 3. If Statement"
   ]
  },
  {
   "cell_type": "code",
   "execution_count": 11,
   "metadata": {},
   "outputs": [
    {
     "name": "stdout",
     "output_type": "stream",
     "text": [
      "This person is a taller than 5 ft!\n"
     ]
    }
   ],
   "source": [
    "# my_dic['height'] = 4\n",
    "\n",
    "if my_dic['height'] > 5:\n",
    "    print('This person is a taller than 5 ft!')\n",
    "else:\n",
    "    print('This person is not taller than 5 ft!')"
   ]
  },
  {
   "cell_type": "markdown",
   "metadata": {},
   "source": [
    "### 4. User Input"
   ]
  },
  {
   "cell_type": "code",
   "execution_count": 12,
   "metadata": {},
   "outputs": [
    {
     "name": "stdout",
     "output_type": "stream",
     "text": [
      "What's your age? 25\n",
      "Your age is 25\n"
     ]
    }
   ],
   "source": [
    "age = input(\"What's your age? \")                        # ask for input from user\n",
    "print('Your age is ' + age)"
   ]
  },
  {
   "cell_type": "markdown",
   "metadata": {},
   "source": [
    "### 5. While loop"
   ]
  },
  {
   "cell_type": "code",
   "execution_count": 13,
   "metadata": {},
   "outputs": [
    {
     "name": "stdout",
     "output_type": "stream",
     "text": [
      "1\n",
      "2\n",
      "3\n",
      "4\n",
      "5\n"
     ]
    }
   ],
   "source": [
    "temp = 1\n",
    "while temp <= 5:\n",
    "    print(temp)\n",
    "    temp += 1"
   ]
  },
  {
   "cell_type": "markdown",
   "metadata": {},
   "source": [
    "### 6. Functions"
   ]
  },
  {
   "cell_type": "code",
   "execution_count": 14,
   "metadata": {},
   "outputs": [
    {
     "name": "stdout",
     "output_type": "stream",
     "text": [
      "Hello world!\n",
      "Hello Joe\n",
      "Hello Jack\n"
     ]
    }
   ],
   "source": [
    "def my_func():                       # define function w/o argument w/o output\n",
    "    print(\"Hello world!\")\n",
    "    \n",
    "my_func()\n",
    "\n",
    "def my_func(name):                   # define function w argument w/o output\n",
    "    print(\"Hello \" + name)\n",
    "    return\n",
    "\n",
    "my_func('Joe')\n",
    "\n",
    "def my_func(name):                    # define function w argument w output\n",
    "    my_str = \"Hello \" + name\n",
    "    return my_str\n",
    "\n",
    "my_str = my_func('Jack')\n",
    "print(my_str)"
   ]
  },
  {
   "cell_type": "markdown",
   "metadata": {},
   "source": [
    "### 7. Classes"
   ]
  },
  {
   "cell_type": "code",
   "execution_count": 15,
   "metadata": {},
   "outputs": [],
   "source": [
    "class Dog():                                # create class dog\n",
    "    \"\"\"Introduces a dog\"\"\"\n",
    "    def __init__(self, name, breed):        # create init method: initialize dog object\n",
    "        self.name = name                    # define name attribute\n",
    "        self.breed = breed                  # define name breed\n",
    "        \n",
    "        \n",
    "    def sit(self):                          # create sit method\n",
    "        print(self.name + ' is sitting.')"
   ]
  },
  {
   "cell_type": "code",
   "execution_count": 16,
   "metadata": {},
   "outputs": [
    {
     "name": "stdout",
     "output_type": "stream",
     "text": [
      "My dog name is Daisy\n",
      "My dog breed is Husky\n",
      "Daisy is sitting.\n"
     ]
    }
   ],
   "source": [
    "my_dog = Dog('Daisy', 'Husky')              # create my_dog object\n",
    "print('My dog name is ' + my_dog.name)      # access attribute name\n",
    "print('My dog breed is ' + my_dog.breed)    # access attribute breed\n",
    "my_dog.sit()                                # call method sit "
   ]
  },
  {
   "cell_type": "markdown",
   "metadata": {},
   "source": [
    "### 8. Plot data"
   ]
  },
  {
   "cell_type": "code",
   "execution_count": 17,
   "metadata": {},
   "outputs": [
    {
     "data": {
      "image/png": "[encoded data removed]",
      "text/plain": [
       "<Figure size 432x288 with 1 Axes>"
      ]
     },
     "metadata": {
      "needs_background": "light"
     },
     "output_type": "display_data"
    }
   ],
   "source": [
    "import numpy as np                         # import numpy library for numerical calculation\n",
    "import matplotlib.pyplot as plt            # import matplotlib library for plotting\n",
    "\n",
    "x = np.linspace(0, 10, 100)                # create x data points\n",
    "y = np.cos(x)                              # create y data points\n",
    "\n",
    "%matplotlib inline\n",
    "plt.plot(x,y)\n",
    "plt.xlabel('X')\n",
    "plt.ylabel('Y')\n",
    "plt.show()"
   ]
  },
  {
   "cell_type": "markdown",
   "metadata": {},
   "source": [
    "### Read more on this [link](https://github.com/ehmatthes/pcc/releases/download/v1.0.0/beginners_python_cheat_sheet_pcc_all.pdf)"
   ]
  }
 ],
 "metadata": {
  "kernelspec": {
   "display_name": "Python 3",
   "language": "python",
   "name": "python3"
  },
  "language_info": {
   "codemirror_mode": {
    "name": "ipython",
    "version": 3
   },
   "file_extension": ".py",
   "mimetype": "text/x-python",
   "name": "python",
   "nbconvert_exporter": "python",
   "pygments_lexer": "ipython3",
   "version": "3.7.4"
  }
 },
 "nbformat": 4,
 "nbformat_minor": 2
}
